{
 "cells": [
  {
   "attachments": {},
   "cell_type": "markdown",
   "metadata": {},
   "source": [
    "## Viewing Results"
   ]
  },
  {
   "cell_type": "code",
   "execution_count": 8,
   "metadata": {},
   "outputs": [],
   "source": [
    "import os\n",
    "import scanpy as sc\n",
    "\n",
    "home = '/home/kojo/Code/Alz_trVAE'\n",
    "os.chdir(home)"
   ]
  },
  {
   "cell_type": "code",
   "execution_count": 9,
   "metadata": {},
   "outputs": [],
   "source": [
    "import scanpy as sc\n",
    "import numpy as np\n",
    "import pandas as pd\n",
    "import seaborn as sns\n",
    "import matplotlib\n",
    "from scipy import sparse\n",
    "from scipy import stats\n",
    "from matplotlib import pyplot as plt\n",
    "import reptrvae"
   ]
  },
  {
   "cell_type": "code",
   "execution_count": 10,
   "metadata": {},
   "outputs": [],
   "source": [
    "sc.set_figure_params(dpi=200)"
   ]
  },
  {
   "cell_type": "code",
   "execution_count": 11,
   "metadata": {},
   "outputs": [],
   "source": [
    "path_to_save = \"./results/alzPro-time/\"\n",
    "sc.settings.figdir = path_to_save"
   ]
  },
  {
   "cell_type": "code",
   "execution_count": 12,
   "metadata": {},
   "outputs": [],
   "source": [
    "combination = 'U'\n",
    "normalized = True\n",
    "specific_cell_type = \"all\""
   ]
  },
  {
   "cell_type": "code",
   "execution_count": 13,
   "metadata": {},
   "outputs": [],
   "source": [
    "conditions = [\"3m\", \"6m\", \"9m\"]\n",
    "source_condition = \"6m\"\n",
    "target_condition = \"9m\"\n",
    "cell_type_key = \"Group\"\n",
    "condition_key = \"Timepoint\""
   ]
  },
  {
   "cell_type": "code",
   "execution_count": 14,
   "metadata": {},
   "outputs": [
    {
     "data": {
      "text/plain": [
       "AnnData object with n_obs × n_vars = 48 × 2969\n",
       "    obs: 'Qi ID', 'sex', 'Group', 'Timepoint', 'Validation'"
      ]
     },
     "execution_count": 14,
     "metadata": {},
     "output_type": "execute_result"
    }
   ],
   "source": [
    "adata = sc.read(f\"./data/alzPro_{'normalized' if normalized else 'count'}_{combination}.h5ad\")\n",
    "#adata.uns['log1p'][\"base\"] = None\n",
    "adata"
   ]
  },
  {
   "cell_type": "code",
   "execution_count": 15,
   "metadata": {},
   "outputs": [
    {
     "data": {
      "text/plain": [
       "(0.0, 55.11332)"
      ]
     },
     "execution_count": 15,
     "metadata": {},
     "output_type": "execute_result"
    }
   ],
   "source": [
    "adata.X.min(), adata.X.max()"
   ]
  },
  {
   "cell_type": "code",
   "execution_count": 16,
   "metadata": {},
   "outputs": [
    {
     "data": {
      "text/plain": [
       "AnnData object with n_obs × n_vars = 48 × 2969\n",
       "    obs: 'Qi ID', 'sex', 'Group', 'Timepoint', 'Validation'"
      ]
     },
     "execution_count": 16,
     "metadata": {},
     "output_type": "execute_result"
    }
   ],
   "source": [
    "if specific_cell_type != 'all':\n",
    "    cell_type_adata = adata[adata.obs[cell_type_key] == specific_cell_type]\n",
    "else:\n",
    "    cell_type_adata = adata\n",
    "#cell_type_adata.uns['log1p'][\"base\"] = None\n",
    "cell_type_adata"
   ]
  },
  {
   "cell_type": "code",
   "execution_count": 17,
   "metadata": {},
   "outputs": [
    {
     "data": {
      "text/plain": [
       "0.076606765"
      ]
     },
     "execution_count": 17,
     "metadata": {},
     "output_type": "execute_result"
    }
   ],
   "source": [
    "cell_type_adata.X[0][1550]"
   ]
  },
  {
   "cell_type": "code",
   "execution_count": 18,
   "metadata": {},
   "outputs": [],
   "source": [
    "ctrl_adata = cell_type_adata[cell_type_adata.obs[condition_key] == source_condition]\n",
    "real_adata = cell_type_adata[cell_type_adata.obs[condition_key] == target_condition]"
   ]
  },
  {
   "cell_type": "code",
   "execution_count": 19,
   "metadata": {},
   "outputs": [
    {
     "name": "stderr",
     "output_type": "stream",
     "text": [
      "/home/kojo/miniconda3/envs/trVAE/lib/python3.7/site-packages/ipykernel_launcher.py:1: ImplicitModificationWarning: Trying to modify attribute `.obs` of view, initializing view as actual.\n",
      "  \"\"\"Entry point for launching an IPython kernel.\n",
      "/home/kojo/miniconda3/envs/trVAE/lib/python3.7/site-packages/ipykernel_launcher.py:2: ImplicitModificationWarning: Trying to modify attribute `.obs` of view, initializing view as actual.\n",
      "  \n"
     ]
    }
   ],
   "source": [
    "ctrl_adata.obs['method'] = source_condition\n",
    "real_adata.obs['method'] = target_condition"
   ]
  },
  {
   "cell_type": "code",
   "execution_count": null,
   "metadata": {},
   "outputs": [],
   "source": []
  },
  {
   "cell_type": "code",
   "execution_count": 20,
   "metadata": {},
   "outputs": [
    {
     "data": {
      "text/plain": [
       "AnnData object with n_obs × n_vars = 32 × 2969\n",
       "    obs: 'Qi ID', 'sex', 'Group', 'Timepoint', 'Validation', 'batch'"
      ]
     },
     "execution_count": 20,
     "metadata": {},
     "output_type": "execute_result"
    }
   ],
   "source": [
    "trvae_reconstructed = sc.read(f\"./data/reconstructed/trVAE_alzPro-time/{specific_cell_type}_{'norm' if normalized else 'count'}_{combination}.h5ad\")\n",
    "#trvae_reconstructed.uns['log1p'][\"base\"] = None\n",
    "trvae_reconstructed"
   ]
  },
  {
   "cell_type": "code",
   "execution_count": 21,
   "metadata": {},
   "outputs": [
    {
     "data": {
      "text/plain": [
       "0.0"
      ]
     },
     "execution_count": 21,
     "metadata": {},
     "output_type": "execute_result"
    }
   ],
   "source": [
    "trvae_reconstructed.X[0][1550]"
   ]
  },
  {
   "cell_type": "code",
   "execution_count": 22,
   "metadata": {},
   "outputs": [
    {
     "data": {
      "text/plain": [
       "(0.0, 30.355385)"
      ]
     },
     "execution_count": 22,
     "metadata": {},
     "output_type": "execute_result"
    }
   ],
   "source": [
    "trvae_reconstructed.X[:8].min(), trvae_reconstructed.X[:8].max()"
   ]
  },
  {
   "cell_type": "code",
   "execution_count": 23,
   "metadata": {},
   "outputs": [
    {
     "data": {
      "text/html": [
       "<div>\n",
       "<style scoped>\n",
       "    .dataframe tbody tr th:only-of-type {\n",
       "        vertical-align: middle;\n",
       "    }\n",
       "\n",
       "    .dataframe tbody tr th {\n",
       "        vertical-align: top;\n",
       "    }\n",
       "\n",
       "    .dataframe thead th {\n",
       "        text-align: right;\n",
       "    }\n",
       "</style>\n",
       "<table border=\"1\" class=\"dataframe\">\n",
       "  <thead>\n",
       "    <tr style=\"text-align: right;\">\n",
       "      <th></th>\n",
       "      <th>Qi ID</th>\n",
       "      <th>sex</th>\n",
       "      <th>Group</th>\n",
       "      <th>Timepoint</th>\n",
       "      <th>Validation</th>\n",
       "      <th>batch</th>\n",
       "    </tr>\n",
       "  </thead>\n",
       "  <tbody>\n",
       "    <tr>\n",
       "      <th>16-0</th>\n",
       "      <td>2997</td>\n",
       "      <td>M</td>\n",
       "      <td>all</td>\n",
       "      <td>6m_to_9m</td>\n",
       "      <td>Test</td>\n",
       "      <td>0</td>\n",
       "    </tr>\n",
       "    <tr>\n",
       "      <th>17-0</th>\n",
       "      <td>2998</td>\n",
       "      <td>M</td>\n",
       "      <td>all</td>\n",
       "      <td>6m_to_9m</td>\n",
       "      <td>Train</td>\n",
       "      <td>0</td>\n",
       "    </tr>\n",
       "    <tr>\n",
       "      <th>18-0</th>\n",
       "      <td>3003</td>\n",
       "      <td>F</td>\n",
       "      <td>all</td>\n",
       "      <td>6m_to_9m</td>\n",
       "      <td>Test</td>\n",
       "      <td>0</td>\n",
       "    </tr>\n",
       "    <tr>\n",
       "      <th>19-0</th>\n",
       "      <td>3011</td>\n",
       "      <td>F</td>\n",
       "      <td>all</td>\n",
       "      <td>6m_to_9m</td>\n",
       "      <td>Test</td>\n",
       "      <td>0</td>\n",
       "    </tr>\n",
       "    <tr>\n",
       "      <th>20-0</th>\n",
       "      <td>3012</td>\n",
       "      <td>F</td>\n",
       "      <td>all</td>\n",
       "      <td>6m_to_9m</td>\n",
       "      <td>Train</td>\n",
       "      <td>0</td>\n",
       "    </tr>\n",
       "    <tr>\n",
       "      <th>21-0</th>\n",
       "      <td>3013</td>\n",
       "      <td>F</td>\n",
       "      <td>all</td>\n",
       "      <td>6m_to_9m</td>\n",
       "      <td>Train</td>\n",
       "      <td>0</td>\n",
       "    </tr>\n",
       "    <tr>\n",
       "      <th>22-0</th>\n",
       "      <td>3121</td>\n",
       "      <td>M</td>\n",
       "      <td>all</td>\n",
       "      <td>6m_to_9m</td>\n",
       "      <td>Train</td>\n",
       "      <td>0</td>\n",
       "    </tr>\n",
       "    <tr>\n",
       "      <th>23-0</th>\n",
       "      <td>3177</td>\n",
       "      <td>F</td>\n",
       "      <td>all</td>\n",
       "      <td>6m_to_9m</td>\n",
       "      <td>Train</td>\n",
       "      <td>0</td>\n",
       "    </tr>\n",
       "    <tr>\n",
       "      <th>24-0</th>\n",
       "      <td>3325</td>\n",
       "      <td>M</td>\n",
       "      <td>all</td>\n",
       "      <td>6m_to_9m</td>\n",
       "      <td>Train</td>\n",
       "      <td>0</td>\n",
       "    </tr>\n",
       "    <tr>\n",
       "      <th>25-0</th>\n",
       "      <td>3392</td>\n",
       "      <td>M</td>\n",
       "      <td>all</td>\n",
       "      <td>6m_to_9m</td>\n",
       "      <td>Test</td>\n",
       "      <td>0</td>\n",
       "    </tr>\n",
       "    <tr>\n",
       "      <th>26-0</th>\n",
       "      <td>3393</td>\n",
       "      <td>M</td>\n",
       "      <td>all</td>\n",
       "      <td>6m_to_9m</td>\n",
       "      <td>Train</td>\n",
       "      <td>0</td>\n",
       "    </tr>\n",
       "    <tr>\n",
       "      <th>27-0</th>\n",
       "      <td>3400</td>\n",
       "      <td>F</td>\n",
       "      <td>all</td>\n",
       "      <td>6m_to_9m</td>\n",
       "      <td>Train</td>\n",
       "      <td>0</td>\n",
       "    </tr>\n",
       "    <tr>\n",
       "      <th>28-0</th>\n",
       "      <td>3405</td>\n",
       "      <td>F</td>\n",
       "      <td>all</td>\n",
       "      <td>6m_to_9m</td>\n",
       "      <td>Train</td>\n",
       "      <td>0</td>\n",
       "    </tr>\n",
       "    <tr>\n",
       "      <th>29-0</th>\n",
       "      <td>3513</td>\n",
       "      <td>M</td>\n",
       "      <td>all</td>\n",
       "      <td>6m_to_9m</td>\n",
       "      <td>Train</td>\n",
       "      <td>0</td>\n",
       "    </tr>\n",
       "    <tr>\n",
       "      <th>30-0</th>\n",
       "      <td>3526</td>\n",
       "      <td>F</td>\n",
       "      <td>all</td>\n",
       "      <td>6m_to_9m</td>\n",
       "      <td>Train</td>\n",
       "      <td>0</td>\n",
       "    </tr>\n",
       "    <tr>\n",
       "      <th>31-0</th>\n",
       "      <td>3703</td>\n",
       "      <td>M</td>\n",
       "      <td>all</td>\n",
       "      <td>6m_to_9m</td>\n",
       "      <td>Train</td>\n",
       "      <td>0</td>\n",
       "    </tr>\n",
       "    <tr>\n",
       "      <th>32-1</th>\n",
       "      <td>2143</td>\n",
       "      <td>M</td>\n",
       "      <td>HET</td>\n",
       "      <td>9m</td>\n",
       "      <td>Test</td>\n",
       "      <td>1</td>\n",
       "    </tr>\n",
       "    <tr>\n",
       "      <th>33-1</th>\n",
       "      <td>2145</td>\n",
       "      <td>M</td>\n",
       "      <td>HET</td>\n",
       "      <td>9m</td>\n",
       "      <td>Train</td>\n",
       "      <td>1</td>\n",
       "    </tr>\n",
       "    <tr>\n",
       "      <th>34-1</th>\n",
       "      <td>2146</td>\n",
       "      <td>M</td>\n",
       "      <td>HET</td>\n",
       "      <td>9m</td>\n",
       "      <td>Train</td>\n",
       "      <td>1</td>\n",
       "    </tr>\n",
       "    <tr>\n",
       "      <th>35-1</th>\n",
       "      <td>2147</td>\n",
       "      <td>M</td>\n",
       "      <td>WT</td>\n",
       "      <td>9m</td>\n",
       "      <td>Test</td>\n",
       "      <td>1</td>\n",
       "    </tr>\n",
       "    <tr>\n",
       "      <th>36-1</th>\n",
       "      <td>2148</td>\n",
       "      <td>M</td>\n",
       "      <td>WT</td>\n",
       "      <td>9m</td>\n",
       "      <td>Train</td>\n",
       "      <td>1</td>\n",
       "    </tr>\n",
       "    <tr>\n",
       "      <th>37-1</th>\n",
       "      <td>2150</td>\n",
       "      <td>M</td>\n",
       "      <td>WT</td>\n",
       "      <td>9m</td>\n",
       "      <td>Train</td>\n",
       "      <td>1</td>\n",
       "    </tr>\n",
       "    <tr>\n",
       "      <th>38-1</th>\n",
       "      <td>2156</td>\n",
       "      <td>F</td>\n",
       "      <td>HET</td>\n",
       "      <td>9m</td>\n",
       "      <td>Test</td>\n",
       "      <td>1</td>\n",
       "    </tr>\n",
       "    <tr>\n",
       "      <th>39-1</th>\n",
       "      <td>2227</td>\n",
       "      <td>F</td>\n",
       "      <td>WT</td>\n",
       "      <td>9m</td>\n",
       "      <td>Test</td>\n",
       "      <td>1</td>\n",
       "    </tr>\n",
       "    <tr>\n",
       "      <th>40-1</th>\n",
       "      <td>2228</td>\n",
       "      <td>F</td>\n",
       "      <td>WT</td>\n",
       "      <td>9m</td>\n",
       "      <td>Train</td>\n",
       "      <td>1</td>\n",
       "    </tr>\n",
       "    <tr>\n",
       "      <th>41-1</th>\n",
       "      <td>2229</td>\n",
       "      <td>F</td>\n",
       "      <td>HET</td>\n",
       "      <td>9m</td>\n",
       "      <td>Train</td>\n",
       "      <td>1</td>\n",
       "    </tr>\n",
       "    <tr>\n",
       "      <th>42-1</th>\n",
       "      <td>2232</td>\n",
       "      <td>F</td>\n",
       "      <td>HET</td>\n",
       "      <td>9m</td>\n",
       "      <td>Train</td>\n",
       "      <td>1</td>\n",
       "    </tr>\n",
       "    <tr>\n",
       "      <th>43-1</th>\n",
       "      <td>2582</td>\n",
       "      <td>M</td>\n",
       "      <td>HET</td>\n",
       "      <td>9m</td>\n",
       "      <td>Train</td>\n",
       "      <td>1</td>\n",
       "    </tr>\n",
       "    <tr>\n",
       "      <th>44-1</th>\n",
       "      <td>2583</td>\n",
       "      <td>F</td>\n",
       "      <td>WT</td>\n",
       "      <td>9m</td>\n",
       "      <td>Train</td>\n",
       "      <td>1</td>\n",
       "    </tr>\n",
       "    <tr>\n",
       "      <th>45-1</th>\n",
       "      <td>2721</td>\n",
       "      <td>F</td>\n",
       "      <td>HET</td>\n",
       "      <td>9m</td>\n",
       "      <td>Train</td>\n",
       "      <td>1</td>\n",
       "    </tr>\n",
       "    <tr>\n",
       "      <th>46-1</th>\n",
       "      <td>3207</td>\n",
       "      <td>F</td>\n",
       "      <td>WT</td>\n",
       "      <td>9m</td>\n",
       "      <td>Train</td>\n",
       "      <td>1</td>\n",
       "    </tr>\n",
       "    <tr>\n",
       "      <th>47-1</th>\n",
       "      <td>3234</td>\n",
       "      <td>M</td>\n",
       "      <td>WT</td>\n",
       "      <td>9m</td>\n",
       "      <td>Train</td>\n",
       "      <td>1</td>\n",
       "    </tr>\n",
       "  </tbody>\n",
       "</table>\n",
       "</div>"
      ],
      "text/plain": [
       "      Qi ID sex Group Timepoint Validation batch\n",
       "16-0   2997   M   all  6m_to_9m       Test     0\n",
       "17-0   2998   M   all  6m_to_9m      Train     0\n",
       "18-0   3003   F   all  6m_to_9m       Test     0\n",
       "19-0   3011   F   all  6m_to_9m       Test     0\n",
       "20-0   3012   F   all  6m_to_9m      Train     0\n",
       "21-0   3013   F   all  6m_to_9m      Train     0\n",
       "22-0   3121   M   all  6m_to_9m      Train     0\n",
       "23-0   3177   F   all  6m_to_9m      Train     0\n",
       "24-0   3325   M   all  6m_to_9m      Train     0\n",
       "25-0   3392   M   all  6m_to_9m       Test     0\n",
       "26-0   3393   M   all  6m_to_9m      Train     0\n",
       "27-0   3400   F   all  6m_to_9m      Train     0\n",
       "28-0   3405   F   all  6m_to_9m      Train     0\n",
       "29-0   3513   M   all  6m_to_9m      Train     0\n",
       "30-0   3526   F   all  6m_to_9m      Train     0\n",
       "31-0   3703   M   all  6m_to_9m      Train     0\n",
       "32-1   2143   M   HET        9m       Test     1\n",
       "33-1   2145   M   HET        9m      Train     1\n",
       "34-1   2146   M   HET        9m      Train     1\n",
       "35-1   2147   M    WT        9m       Test     1\n",
       "36-1   2148   M    WT        9m      Train     1\n",
       "37-1   2150   M    WT        9m      Train     1\n",
       "38-1   2156   F   HET        9m       Test     1\n",
       "39-1   2227   F    WT        9m       Test     1\n",
       "40-1   2228   F    WT        9m      Train     1\n",
       "41-1   2229   F   HET        9m      Train     1\n",
       "42-1   2232   F   HET        9m      Train     1\n",
       "43-1   2582   M   HET        9m      Train     1\n",
       "44-1   2583   F    WT        9m      Train     1\n",
       "45-1   2721   F   HET        9m      Train     1\n",
       "46-1   3207   F    WT        9m      Train     1\n",
       "47-1   3234   M    WT        9m      Train     1"
      ]
     },
     "execution_count": 23,
     "metadata": {},
     "output_type": "execute_result"
    }
   ],
   "source": [
    "trvae_reconstructed.obs"
   ]
  },
  {
   "cell_type": "code",
   "execution_count": 24,
   "metadata": {},
   "outputs": [],
   "source": [
    "trvae_pred = trvae_reconstructed[trvae_reconstructed.obs[condition_key] == f\"{source_condition}_to_{target_condition}\"]\n",
    "trvae_pred.var = ctrl_adata.var\n",
    "trvae_pred.obs['method'] = 'trVAE'"
   ]
  },
  {
   "cell_type": "code",
   "execution_count": 25,
   "metadata": {},
   "outputs": [
    {
     "data": {
      "text/html": [
       "<div>\n",
       "<style scoped>\n",
       "    .dataframe tbody tr th:only-of-type {\n",
       "        vertical-align: middle;\n",
       "    }\n",
       "\n",
       "    .dataframe tbody tr th {\n",
       "        vertical-align: top;\n",
       "    }\n",
       "\n",
       "    .dataframe thead th {\n",
       "        text-align: right;\n",
       "    }\n",
       "</style>\n",
       "<table border=\"1\" class=\"dataframe\">\n",
       "  <thead>\n",
       "    <tr style=\"text-align: right;\">\n",
       "      <th></th>\n",
       "      <th>Qi ID</th>\n",
       "      <th>sex</th>\n",
       "      <th>Group</th>\n",
       "      <th>Timepoint</th>\n",
       "      <th>Validation</th>\n",
       "      <th>batch</th>\n",
       "      <th>method</th>\n",
       "    </tr>\n",
       "  </thead>\n",
       "  <tbody>\n",
       "    <tr>\n",
       "      <th>16-0</th>\n",
       "      <td>2997</td>\n",
       "      <td>M</td>\n",
       "      <td>all</td>\n",
       "      <td>6m_to_9m</td>\n",
       "      <td>Test</td>\n",
       "      <td>0</td>\n",
       "      <td>trVAE</td>\n",
       "    </tr>\n",
       "    <tr>\n",
       "      <th>17-0</th>\n",
       "      <td>2998</td>\n",
       "      <td>M</td>\n",
       "      <td>all</td>\n",
       "      <td>6m_to_9m</td>\n",
       "      <td>Train</td>\n",
       "      <td>0</td>\n",
       "      <td>trVAE</td>\n",
       "    </tr>\n",
       "    <tr>\n",
       "      <th>18-0</th>\n",
       "      <td>3003</td>\n",
       "      <td>F</td>\n",
       "      <td>all</td>\n",
       "      <td>6m_to_9m</td>\n",
       "      <td>Test</td>\n",
       "      <td>0</td>\n",
       "      <td>trVAE</td>\n",
       "    </tr>\n",
       "    <tr>\n",
       "      <th>19-0</th>\n",
       "      <td>3011</td>\n",
       "      <td>F</td>\n",
       "      <td>all</td>\n",
       "      <td>6m_to_9m</td>\n",
       "      <td>Test</td>\n",
       "      <td>0</td>\n",
       "      <td>trVAE</td>\n",
       "    </tr>\n",
       "    <tr>\n",
       "      <th>20-0</th>\n",
       "      <td>3012</td>\n",
       "      <td>F</td>\n",
       "      <td>all</td>\n",
       "      <td>6m_to_9m</td>\n",
       "      <td>Train</td>\n",
       "      <td>0</td>\n",
       "      <td>trVAE</td>\n",
       "    </tr>\n",
       "    <tr>\n",
       "      <th>21-0</th>\n",
       "      <td>3013</td>\n",
       "      <td>F</td>\n",
       "      <td>all</td>\n",
       "      <td>6m_to_9m</td>\n",
       "      <td>Train</td>\n",
       "      <td>0</td>\n",
       "      <td>trVAE</td>\n",
       "    </tr>\n",
       "    <tr>\n",
       "      <th>22-0</th>\n",
       "      <td>3121</td>\n",
       "      <td>M</td>\n",
       "      <td>all</td>\n",
       "      <td>6m_to_9m</td>\n",
       "      <td>Train</td>\n",
       "      <td>0</td>\n",
       "      <td>trVAE</td>\n",
       "    </tr>\n",
       "    <tr>\n",
       "      <th>23-0</th>\n",
       "      <td>3177</td>\n",
       "      <td>F</td>\n",
       "      <td>all</td>\n",
       "      <td>6m_to_9m</td>\n",
       "      <td>Train</td>\n",
       "      <td>0</td>\n",
       "      <td>trVAE</td>\n",
       "    </tr>\n",
       "    <tr>\n",
       "      <th>24-0</th>\n",
       "      <td>3325</td>\n",
       "      <td>M</td>\n",
       "      <td>all</td>\n",
       "      <td>6m_to_9m</td>\n",
       "      <td>Train</td>\n",
       "      <td>0</td>\n",
       "      <td>trVAE</td>\n",
       "    </tr>\n",
       "    <tr>\n",
       "      <th>25-0</th>\n",
       "      <td>3392</td>\n",
       "      <td>M</td>\n",
       "      <td>all</td>\n",
       "      <td>6m_to_9m</td>\n",
       "      <td>Test</td>\n",
       "      <td>0</td>\n",
       "      <td>trVAE</td>\n",
       "    </tr>\n",
       "    <tr>\n",
       "      <th>26-0</th>\n",
       "      <td>3393</td>\n",
       "      <td>M</td>\n",
       "      <td>all</td>\n",
       "      <td>6m_to_9m</td>\n",
       "      <td>Train</td>\n",
       "      <td>0</td>\n",
       "      <td>trVAE</td>\n",
       "    </tr>\n",
       "    <tr>\n",
       "      <th>27-0</th>\n",
       "      <td>3400</td>\n",
       "      <td>F</td>\n",
       "      <td>all</td>\n",
       "      <td>6m_to_9m</td>\n",
       "      <td>Train</td>\n",
       "      <td>0</td>\n",
       "      <td>trVAE</td>\n",
       "    </tr>\n",
       "    <tr>\n",
       "      <th>28-0</th>\n",
       "      <td>3405</td>\n",
       "      <td>F</td>\n",
       "      <td>all</td>\n",
       "      <td>6m_to_9m</td>\n",
       "      <td>Train</td>\n",
       "      <td>0</td>\n",
       "      <td>trVAE</td>\n",
       "    </tr>\n",
       "    <tr>\n",
       "      <th>29-0</th>\n",
       "      <td>3513</td>\n",
       "      <td>M</td>\n",
       "      <td>all</td>\n",
       "      <td>6m_to_9m</td>\n",
       "      <td>Train</td>\n",
       "      <td>0</td>\n",
       "      <td>trVAE</td>\n",
       "    </tr>\n",
       "    <tr>\n",
       "      <th>30-0</th>\n",
       "      <td>3526</td>\n",
       "      <td>F</td>\n",
       "      <td>all</td>\n",
       "      <td>6m_to_9m</td>\n",
       "      <td>Train</td>\n",
       "      <td>0</td>\n",
       "      <td>trVAE</td>\n",
       "    </tr>\n",
       "    <tr>\n",
       "      <th>31-0</th>\n",
       "      <td>3703</td>\n",
       "      <td>M</td>\n",
       "      <td>all</td>\n",
       "      <td>6m_to_9m</td>\n",
       "      <td>Train</td>\n",
       "      <td>0</td>\n",
       "      <td>trVAE</td>\n",
       "    </tr>\n",
       "  </tbody>\n",
       "</table>\n",
       "</div>"
      ],
      "text/plain": [
       "      Qi ID sex Group Timepoint Validation batch method\n",
       "16-0   2997   M   all  6m_to_9m       Test     0  trVAE\n",
       "17-0   2998   M   all  6m_to_9m      Train     0  trVAE\n",
       "18-0   3003   F   all  6m_to_9m       Test     0  trVAE\n",
       "19-0   3011   F   all  6m_to_9m       Test     0  trVAE\n",
       "20-0   3012   F   all  6m_to_9m      Train     0  trVAE\n",
       "21-0   3013   F   all  6m_to_9m      Train     0  trVAE\n",
       "22-0   3121   M   all  6m_to_9m      Train     0  trVAE\n",
       "23-0   3177   F   all  6m_to_9m      Train     0  trVAE\n",
       "24-0   3325   M   all  6m_to_9m      Train     0  trVAE\n",
       "25-0   3392   M   all  6m_to_9m       Test     0  trVAE\n",
       "26-0   3393   M   all  6m_to_9m      Train     0  trVAE\n",
       "27-0   3400   F   all  6m_to_9m      Train     0  trVAE\n",
       "28-0   3405   F   all  6m_to_9m      Train     0  trVAE\n",
       "29-0   3513   M   all  6m_to_9m      Train     0  trVAE\n",
       "30-0   3526   F   all  6m_to_9m      Train     0  trVAE\n",
       "31-0   3703   M   all  6m_to_9m      Train     0  trVAE"
      ]
     },
     "execution_count": 25,
     "metadata": {},
     "output_type": "execute_result"
    }
   ],
   "source": [
    "trvae_pred.obs"
   ]
  },
  {
   "cell_type": "code",
   "execution_count": 26,
   "metadata": {},
   "outputs": [
    {
     "name": "stderr",
     "output_type": "stream",
     "text": [
      "/home/kojo/miniconda3/envs/trVAE/lib/python3.7/site-packages/anndata/_core/anndata.py:1785: FutureWarning: X.dtype being converted to np.float32 from float64. In the next version of anndata (0.9) conversion will not be automatic. Pass dtype explicitly to avoid this warning. Pass `AnnData(X, dtype=X.dtype, ...)` to get the future behavour.\n",
      "  [AnnData(sparse.csr_matrix(a.shape), obs=a.obs) for a in all_adatas],\n"
     ]
    },
    {
     "data": {
      "text/plain": [
       "array(['6m', '9m', 'trVAE'], dtype=object)"
      ]
     },
     "execution_count": 26,
     "metadata": {},
     "output_type": "execute_result"
    }
   ],
   "source": [
    "models = ctrl_adata.concatenate(real_adata, trvae_pred)\n",
    "models.obs['method'].unique()"
   ]
  },
  {
   "cell_type": "code",
   "execution_count": 27,
   "metadata": {},
   "outputs": [
    {
     "data": {
      "text/plain": [
       "Index(['A2A432|CUL4B', 'A2A5R2|BIG2', 'A2A699|F1712', 'A2A7S8|K1522',\n",
       "       'A2A8L1|CHD5', 'A2A8L5|PTPRF', 'A2ADY9|DDI2', 'A2AG50|MA7D2',\n",
       "       'A2AGT5|CKAP5', 'A2AJA9|AJM1',\n",
       "       ...\n",
       "       'Q9Z2U0|PSA7', 'Q9Z2U1|PSA5', 'Q9Z2U2|ZN292', 'Q9Z2V5|HDAC6',\n",
       "       'Q9Z2W0|DNPEP', 'Q9Z2W8|GRIA4', 'Q9Z2W9|GRIA3', 'Q9Z2X1|HNRPF',\n",
       "       'Q9Z2Y3|HOME1', 'Q9Z2Y8|PLPHP'],\n",
       "      dtype='object', name='Accession', length=2969)"
      ]
     },
     "execution_count": 27,
     "metadata": {},
     "output_type": "execute_result"
    }
   ],
   "source": [
    "models.var_names"
   ]
  },
  {
   "cell_type": "code",
   "execution_count": 28,
   "metadata": {},
   "outputs": [
    {
     "name": "stdout",
     "output_type": "stream",
     "text": [
      "WARNING: Default of the method has been changed to 't-test' from 't-test_overestim_var'\n",
      "WARNING: Default of the method has been changed to 't-test' from 't-test_overestim_var'\n"
     ]
    }
   ],
   "source": [
    "sc.tl.rank_genes_groups(models, reference=target_condition, \n",
    "                       groupby=\"method\", groups=['trVAE'],\n",
    "                       key_added='up_reg_genes', n_genes=50)\n",
    "sc.tl.rank_genes_groups(models, reference='trVAE',\n",
    "                         groupby=\"method\", groups=[target_condition],\n",
    "                         key_added='down_reg_genes', n_genes=50)\n",
    "up_genes = models.uns['up_reg_genes']['names']['trVAE']\n",
    "down_genes = models.uns['down_reg_genes']['names'][target_condition]"
   ]
  },
  {
   "cell_type": "code",
   "execution_count": 29,
   "metadata": {},
   "outputs": [
    {
     "data": {
      "text/html": [
       "<div>\n",
       "<style scoped>\n",
       "    .dataframe tbody tr th:only-of-type {\n",
       "        vertical-align: middle;\n",
       "    }\n",
       "\n",
       "    .dataframe tbody tr th {\n",
       "        vertical-align: top;\n",
       "    }\n",
       "\n",
       "    .dataframe thead th {\n",
       "        text-align: right;\n",
       "    }\n",
       "</style>\n",
       "<table border=\"1\" class=\"dataframe\">\n",
       "  <thead>\n",
       "    <tr style=\"text-align: right;\">\n",
       "      <th></th>\n",
       "      <th>Qi ID</th>\n",
       "      <th>sex</th>\n",
       "      <th>Group</th>\n",
       "      <th>Timepoint</th>\n",
       "      <th>Validation</th>\n",
       "      <th>method</th>\n",
       "      <th>batch</th>\n",
       "    </tr>\n",
       "  </thead>\n",
       "  <tbody>\n",
       "    <tr>\n",
       "      <th>16-0</th>\n",
       "      <td>2997</td>\n",
       "      <td>M</td>\n",
       "      <td>HET</td>\n",
       "      <td>6m</td>\n",
       "      <td>Test</td>\n",
       "      <td>6m</td>\n",
       "      <td>0</td>\n",
       "    </tr>\n",
       "    <tr>\n",
       "      <th>17-0</th>\n",
       "      <td>2998</td>\n",
       "      <td>M</td>\n",
       "      <td>HET</td>\n",
       "      <td>6m</td>\n",
       "      <td>Train</td>\n",
       "      <td>6m</td>\n",
       "      <td>0</td>\n",
       "    </tr>\n",
       "    <tr>\n",
       "      <th>18-0</th>\n",
       "      <td>3003</td>\n",
       "      <td>F</td>\n",
       "      <td>WT</td>\n",
       "      <td>6m</td>\n",
       "      <td>Test</td>\n",
       "      <td>6m</td>\n",
       "      <td>0</td>\n",
       "    </tr>\n",
       "    <tr>\n",
       "      <th>19-0</th>\n",
       "      <td>3011</td>\n",
       "      <td>F</td>\n",
       "      <td>HET</td>\n",
       "      <td>6m</td>\n",
       "      <td>Test</td>\n",
       "      <td>6m</td>\n",
       "      <td>0</td>\n",
       "    </tr>\n",
       "    <tr>\n",
       "      <th>20-0</th>\n",
       "      <td>3012</td>\n",
       "      <td>F</td>\n",
       "      <td>HET</td>\n",
       "      <td>6m</td>\n",
       "      <td>Train</td>\n",
       "      <td>6m</td>\n",
       "      <td>0</td>\n",
       "    </tr>\n",
       "    <tr>\n",
       "      <th>21-0</th>\n",
       "      <td>3013</td>\n",
       "      <td>F</td>\n",
       "      <td>HET</td>\n",
       "      <td>6m</td>\n",
       "      <td>Train</td>\n",
       "      <td>6m</td>\n",
       "      <td>0</td>\n",
       "    </tr>\n",
       "    <tr>\n",
       "      <th>22-0</th>\n",
       "      <td>3121</td>\n",
       "      <td>M</td>\n",
       "      <td>HET</td>\n",
       "      <td>6m</td>\n",
       "      <td>Train</td>\n",
       "      <td>6m</td>\n",
       "      <td>0</td>\n",
       "    </tr>\n",
       "    <tr>\n",
       "      <th>23-0</th>\n",
       "      <td>3177</td>\n",
       "      <td>F</td>\n",
       "      <td>HET</td>\n",
       "      <td>6m</td>\n",
       "      <td>Train</td>\n",
       "      <td>6m</td>\n",
       "      <td>0</td>\n",
       "    </tr>\n",
       "    <tr>\n",
       "      <th>24-0</th>\n",
       "      <td>3325</td>\n",
       "      <td>M</td>\n",
       "      <td>HET</td>\n",
       "      <td>6m</td>\n",
       "      <td>Train</td>\n",
       "      <td>6m</td>\n",
       "      <td>0</td>\n",
       "    </tr>\n",
       "    <tr>\n",
       "      <th>25-0</th>\n",
       "      <td>3392</td>\n",
       "      <td>M</td>\n",
       "      <td>WT</td>\n",
       "      <td>6m</td>\n",
       "      <td>Test</td>\n",
       "      <td>6m</td>\n",
       "      <td>0</td>\n",
       "    </tr>\n",
       "    <tr>\n",
       "      <th>26-0</th>\n",
       "      <td>3393</td>\n",
       "      <td>M</td>\n",
       "      <td>WT</td>\n",
       "      <td>6m</td>\n",
       "      <td>Train</td>\n",
       "      <td>6m</td>\n",
       "      <td>0</td>\n",
       "    </tr>\n",
       "    <tr>\n",
       "      <th>27-0</th>\n",
       "      <td>3400</td>\n",
       "      <td>F</td>\n",
       "      <td>WT</td>\n",
       "      <td>6m</td>\n",
       "      <td>Train</td>\n",
       "      <td>6m</td>\n",
       "      <td>0</td>\n",
       "    </tr>\n",
       "    <tr>\n",
       "      <th>28-0</th>\n",
       "      <td>3405</td>\n",
       "      <td>F</td>\n",
       "      <td>WT</td>\n",
       "      <td>6m</td>\n",
       "      <td>Train</td>\n",
       "      <td>6m</td>\n",
       "      <td>0</td>\n",
       "    </tr>\n",
       "    <tr>\n",
       "      <th>29-0</th>\n",
       "      <td>3513</td>\n",
       "      <td>M</td>\n",
       "      <td>WT</td>\n",
       "      <td>6m</td>\n",
       "      <td>Train</td>\n",
       "      <td>6m</td>\n",
       "      <td>0</td>\n",
       "    </tr>\n",
       "    <tr>\n",
       "      <th>30-0</th>\n",
       "      <td>3526</td>\n",
       "      <td>F</td>\n",
       "      <td>WT</td>\n",
       "      <td>6m</td>\n",
       "      <td>Train</td>\n",
       "      <td>6m</td>\n",
       "      <td>0</td>\n",
       "    </tr>\n",
       "    <tr>\n",
       "      <th>31-0</th>\n",
       "      <td>3703</td>\n",
       "      <td>M</td>\n",
       "      <td>WT</td>\n",
       "      <td>6m</td>\n",
       "      <td>Train</td>\n",
       "      <td>6m</td>\n",
       "      <td>0</td>\n",
       "    </tr>\n",
       "    <tr>\n",
       "      <th>32-1</th>\n",
       "      <td>2143</td>\n",
       "      <td>M</td>\n",
       "      <td>HET</td>\n",
       "      <td>9m</td>\n",
       "      <td>Test</td>\n",
       "      <td>9m</td>\n",
       "      <td>1</td>\n",
       "    </tr>\n",
       "    <tr>\n",
       "      <th>33-1</th>\n",
       "      <td>2145</td>\n",
       "      <td>M</td>\n",
       "      <td>HET</td>\n",
       "      <td>9m</td>\n",
       "      <td>Train</td>\n",
       "      <td>9m</td>\n",
       "      <td>1</td>\n",
       "    </tr>\n",
       "    <tr>\n",
       "      <th>34-1</th>\n",
       "      <td>2146</td>\n",
       "      <td>M</td>\n",
       "      <td>HET</td>\n",
       "      <td>9m</td>\n",
       "      <td>Train</td>\n",
       "      <td>9m</td>\n",
       "      <td>1</td>\n",
       "    </tr>\n",
       "    <tr>\n",
       "      <th>35-1</th>\n",
       "      <td>2147</td>\n",
       "      <td>M</td>\n",
       "      <td>WT</td>\n",
       "      <td>9m</td>\n",
       "      <td>Test</td>\n",
       "      <td>9m</td>\n",
       "      <td>1</td>\n",
       "    </tr>\n",
       "    <tr>\n",
       "      <th>36-1</th>\n",
       "      <td>2148</td>\n",
       "      <td>M</td>\n",
       "      <td>WT</td>\n",
       "      <td>9m</td>\n",
       "      <td>Train</td>\n",
       "      <td>9m</td>\n",
       "      <td>1</td>\n",
       "    </tr>\n",
       "    <tr>\n",
       "      <th>37-1</th>\n",
       "      <td>2150</td>\n",
       "      <td>M</td>\n",
       "      <td>WT</td>\n",
       "      <td>9m</td>\n",
       "      <td>Train</td>\n",
       "      <td>9m</td>\n",
       "      <td>1</td>\n",
       "    </tr>\n",
       "    <tr>\n",
       "      <th>38-1</th>\n",
       "      <td>2156</td>\n",
       "      <td>F</td>\n",
       "      <td>HET</td>\n",
       "      <td>9m</td>\n",
       "      <td>Test</td>\n",
       "      <td>9m</td>\n",
       "      <td>1</td>\n",
       "    </tr>\n",
       "    <tr>\n",
       "      <th>39-1</th>\n",
       "      <td>2227</td>\n",
       "      <td>F</td>\n",
       "      <td>WT</td>\n",
       "      <td>9m</td>\n",
       "      <td>Test</td>\n",
       "      <td>9m</td>\n",
       "      <td>1</td>\n",
       "    </tr>\n",
       "    <tr>\n",
       "      <th>40-1</th>\n",
       "      <td>2228</td>\n",
       "      <td>F</td>\n",
       "      <td>WT</td>\n",
       "      <td>9m</td>\n",
       "      <td>Train</td>\n",
       "      <td>9m</td>\n",
       "      <td>1</td>\n",
       "    </tr>\n",
       "    <tr>\n",
       "      <th>41-1</th>\n",
       "      <td>2229</td>\n",
       "      <td>F</td>\n",
       "      <td>HET</td>\n",
       "      <td>9m</td>\n",
       "      <td>Train</td>\n",
       "      <td>9m</td>\n",
       "      <td>1</td>\n",
       "    </tr>\n",
       "    <tr>\n",
       "      <th>42-1</th>\n",
       "      <td>2232</td>\n",
       "      <td>F</td>\n",
       "      <td>HET</td>\n",
       "      <td>9m</td>\n",
       "      <td>Train</td>\n",
       "      <td>9m</td>\n",
       "      <td>1</td>\n",
       "    </tr>\n",
       "    <tr>\n",
       "      <th>43-1</th>\n",
       "      <td>2582</td>\n",
       "      <td>M</td>\n",
       "      <td>HET</td>\n",
       "      <td>9m</td>\n",
       "      <td>Train</td>\n",
       "      <td>9m</td>\n",
       "      <td>1</td>\n",
       "    </tr>\n",
       "    <tr>\n",
       "      <th>44-1</th>\n",
       "      <td>2583</td>\n",
       "      <td>F</td>\n",
       "      <td>WT</td>\n",
       "      <td>9m</td>\n",
       "      <td>Train</td>\n",
       "      <td>9m</td>\n",
       "      <td>1</td>\n",
       "    </tr>\n",
       "    <tr>\n",
       "      <th>45-1</th>\n",
       "      <td>2721</td>\n",
       "      <td>F</td>\n",
       "      <td>HET</td>\n",
       "      <td>9m</td>\n",
       "      <td>Train</td>\n",
       "      <td>9m</td>\n",
       "      <td>1</td>\n",
       "    </tr>\n",
       "    <tr>\n",
       "      <th>46-1</th>\n",
       "      <td>3207</td>\n",
       "      <td>F</td>\n",
       "      <td>WT</td>\n",
       "      <td>9m</td>\n",
       "      <td>Train</td>\n",
       "      <td>9m</td>\n",
       "      <td>1</td>\n",
       "    </tr>\n",
       "    <tr>\n",
       "      <th>47-1</th>\n",
       "      <td>3234</td>\n",
       "      <td>M</td>\n",
       "      <td>WT</td>\n",
       "      <td>9m</td>\n",
       "      <td>Train</td>\n",
       "      <td>9m</td>\n",
       "      <td>1</td>\n",
       "    </tr>\n",
       "    <tr>\n",
       "      <th>16-0-2</th>\n",
       "      <td>2997</td>\n",
       "      <td>M</td>\n",
       "      <td>all</td>\n",
       "      <td>6m_to_9m</td>\n",
       "      <td>Test</td>\n",
       "      <td>trVAE</td>\n",
       "      <td>2</td>\n",
       "    </tr>\n",
       "    <tr>\n",
       "      <th>17-0-2</th>\n",
       "      <td>2998</td>\n",
       "      <td>M</td>\n",
       "      <td>all</td>\n",
       "      <td>6m_to_9m</td>\n",
       "      <td>Train</td>\n",
       "      <td>trVAE</td>\n",
       "      <td>2</td>\n",
       "    </tr>\n",
       "    <tr>\n",
       "      <th>18-0-2</th>\n",
       "      <td>3003</td>\n",
       "      <td>F</td>\n",
       "      <td>all</td>\n",
       "      <td>6m_to_9m</td>\n",
       "      <td>Test</td>\n",
       "      <td>trVAE</td>\n",
       "      <td>2</td>\n",
       "    </tr>\n",
       "    <tr>\n",
       "      <th>19-0-2</th>\n",
       "      <td>3011</td>\n",
       "      <td>F</td>\n",
       "      <td>all</td>\n",
       "      <td>6m_to_9m</td>\n",
       "      <td>Test</td>\n",
       "      <td>trVAE</td>\n",
       "      <td>2</td>\n",
       "    </tr>\n",
       "    <tr>\n",
       "      <th>20-0-2</th>\n",
       "      <td>3012</td>\n",
       "      <td>F</td>\n",
       "      <td>all</td>\n",
       "      <td>6m_to_9m</td>\n",
       "      <td>Train</td>\n",
       "      <td>trVAE</td>\n",
       "      <td>2</td>\n",
       "    </tr>\n",
       "    <tr>\n",
       "      <th>21-0-2</th>\n",
       "      <td>3013</td>\n",
       "      <td>F</td>\n",
       "      <td>all</td>\n",
       "      <td>6m_to_9m</td>\n",
       "      <td>Train</td>\n",
       "      <td>trVAE</td>\n",
       "      <td>2</td>\n",
       "    </tr>\n",
       "    <tr>\n",
       "      <th>22-0-2</th>\n",
       "      <td>3121</td>\n",
       "      <td>M</td>\n",
       "      <td>all</td>\n",
       "      <td>6m_to_9m</td>\n",
       "      <td>Train</td>\n",
       "      <td>trVAE</td>\n",
       "      <td>2</td>\n",
       "    </tr>\n",
       "    <tr>\n",
       "      <th>23-0-2</th>\n",
       "      <td>3177</td>\n",
       "      <td>F</td>\n",
       "      <td>all</td>\n",
       "      <td>6m_to_9m</td>\n",
       "      <td>Train</td>\n",
       "      <td>trVAE</td>\n",
       "      <td>2</td>\n",
       "    </tr>\n",
       "    <tr>\n",
       "      <th>24-0-2</th>\n",
       "      <td>3325</td>\n",
       "      <td>M</td>\n",
       "      <td>all</td>\n",
       "      <td>6m_to_9m</td>\n",
       "      <td>Train</td>\n",
       "      <td>trVAE</td>\n",
       "      <td>2</td>\n",
       "    </tr>\n",
       "    <tr>\n",
       "      <th>25-0-2</th>\n",
       "      <td>3392</td>\n",
       "      <td>M</td>\n",
       "      <td>all</td>\n",
       "      <td>6m_to_9m</td>\n",
       "      <td>Test</td>\n",
       "      <td>trVAE</td>\n",
       "      <td>2</td>\n",
       "    </tr>\n",
       "    <tr>\n",
       "      <th>26-0-2</th>\n",
       "      <td>3393</td>\n",
       "      <td>M</td>\n",
       "      <td>all</td>\n",
       "      <td>6m_to_9m</td>\n",
       "      <td>Train</td>\n",
       "      <td>trVAE</td>\n",
       "      <td>2</td>\n",
       "    </tr>\n",
       "    <tr>\n",
       "      <th>27-0-2</th>\n",
       "      <td>3400</td>\n",
       "      <td>F</td>\n",
       "      <td>all</td>\n",
       "      <td>6m_to_9m</td>\n",
       "      <td>Train</td>\n",
       "      <td>trVAE</td>\n",
       "      <td>2</td>\n",
       "    </tr>\n",
       "    <tr>\n",
       "      <th>28-0-2</th>\n",
       "      <td>3405</td>\n",
       "      <td>F</td>\n",
       "      <td>all</td>\n",
       "      <td>6m_to_9m</td>\n",
       "      <td>Train</td>\n",
       "      <td>trVAE</td>\n",
       "      <td>2</td>\n",
       "    </tr>\n",
       "    <tr>\n",
       "      <th>29-0-2</th>\n",
       "      <td>3513</td>\n",
       "      <td>M</td>\n",
       "      <td>all</td>\n",
       "      <td>6m_to_9m</td>\n",
       "      <td>Train</td>\n",
       "      <td>trVAE</td>\n",
       "      <td>2</td>\n",
       "    </tr>\n",
       "    <tr>\n",
       "      <th>30-0-2</th>\n",
       "      <td>3526</td>\n",
       "      <td>F</td>\n",
       "      <td>all</td>\n",
       "      <td>6m_to_9m</td>\n",
       "      <td>Train</td>\n",
       "      <td>trVAE</td>\n",
       "      <td>2</td>\n",
       "    </tr>\n",
       "    <tr>\n",
       "      <th>31-0-2</th>\n",
       "      <td>3703</td>\n",
       "      <td>M</td>\n",
       "      <td>all</td>\n",
       "      <td>6m_to_9m</td>\n",
       "      <td>Train</td>\n",
       "      <td>trVAE</td>\n",
       "      <td>2</td>\n",
       "    </tr>\n",
       "  </tbody>\n",
       "</table>\n",
       "</div>"
      ],
      "text/plain": [
       "        Qi ID sex Group Timepoint Validation method batch\n",
       "16-0     2997   M   HET        6m       Test     6m     0\n",
       "17-0     2998   M   HET        6m      Train     6m     0\n",
       "18-0     3003   F    WT        6m       Test     6m     0\n",
       "19-0     3011   F   HET        6m       Test     6m     0\n",
       "20-0     3012   F   HET        6m      Train     6m     0\n",
       "21-0     3013   F   HET        6m      Train     6m     0\n",
       "22-0     3121   M   HET        6m      Train     6m     0\n",
       "23-0     3177   F   HET        6m      Train     6m     0\n",
       "24-0     3325   M   HET        6m      Train     6m     0\n",
       "25-0     3392   M    WT        6m       Test     6m     0\n",
       "26-0     3393   M    WT        6m      Train     6m     0\n",
       "27-0     3400   F    WT        6m      Train     6m     0\n",
       "28-0     3405   F    WT        6m      Train     6m     0\n",
       "29-0     3513   M    WT        6m      Train     6m     0\n",
       "30-0     3526   F    WT        6m      Train     6m     0\n",
       "31-0     3703   M    WT        6m      Train     6m     0\n",
       "32-1     2143   M   HET        9m       Test     9m     1\n",
       "33-1     2145   M   HET        9m      Train     9m     1\n",
       "34-1     2146   M   HET        9m      Train     9m     1\n",
       "35-1     2147   M    WT        9m       Test     9m     1\n",
       "36-1     2148   M    WT        9m      Train     9m     1\n",
       "37-1     2150   M    WT        9m      Train     9m     1\n",
       "38-1     2156   F   HET        9m       Test     9m     1\n",
       "39-1     2227   F    WT        9m       Test     9m     1\n",
       "40-1     2228   F    WT        9m      Train     9m     1\n",
       "41-1     2229   F   HET        9m      Train     9m     1\n",
       "42-1     2232   F   HET        9m      Train     9m     1\n",
       "43-1     2582   M   HET        9m      Train     9m     1\n",
       "44-1     2583   F    WT        9m      Train     9m     1\n",
       "45-1     2721   F   HET        9m      Train     9m     1\n",
       "46-1     3207   F    WT        9m      Train     9m     1\n",
       "47-1     3234   M    WT        9m      Train     9m     1\n",
       "16-0-2   2997   M   all  6m_to_9m       Test  trVAE     2\n",
       "17-0-2   2998   M   all  6m_to_9m      Train  trVAE     2\n",
       "18-0-2   3003   F   all  6m_to_9m       Test  trVAE     2\n",
       "19-0-2   3011   F   all  6m_to_9m       Test  trVAE     2\n",
       "20-0-2   3012   F   all  6m_to_9m      Train  trVAE     2\n",
       "21-0-2   3013   F   all  6m_to_9m      Train  trVAE     2\n",
       "22-0-2   3121   M   all  6m_to_9m      Train  trVAE     2\n",
       "23-0-2   3177   F   all  6m_to_9m      Train  trVAE     2\n",
       "24-0-2   3325   M   all  6m_to_9m      Train  trVAE     2\n",
       "25-0-2   3392   M   all  6m_to_9m       Test  trVAE     2\n",
       "26-0-2   3393   M   all  6m_to_9m      Train  trVAE     2\n",
       "27-0-2   3400   F   all  6m_to_9m      Train  trVAE     2\n",
       "28-0-2   3405   F   all  6m_to_9m      Train  trVAE     2\n",
       "29-0-2   3513   M   all  6m_to_9m      Train  trVAE     2\n",
       "30-0-2   3526   F   all  6m_to_9m      Train  trVAE     2\n",
       "31-0-2   3703   M   all  6m_to_9m      Train  trVAE     2"
      ]
     },
     "execution_count": 29,
     "metadata": {},
     "output_type": "execute_result"
    }
   ],
   "source": [
    "models.obs"
   ]
  },
  {
   "cell_type": "code",
   "execution_count": 30,
   "metadata": {},
   "outputs": [
    {
     "name": "stdout",
     "output_type": "stream",
     "text": [
      "Q99PJ0|NTRI\n"
     ]
    }
   ],
   "source": [
    "protein_up = up_genes[0]\n",
    "print(protein_up)"
   ]
  },
  {
   "cell_type": "code",
   "execution_count": 31,
   "metadata": {},
   "outputs": [
    {
     "name": "stdout",
     "output_type": "stream",
     "text": [
      "WARNING: saving figure to file results/alzPro-time/violin_best_model_cmpr.pdf\n"
     ]
    },
    {
     "data": {
      "image/png": "[encoded data removed]",
      "text/plain": [
       "<Figure size 372.24x320 with 1 Axes>"
      ]
     },
     "metadata": {
      "image/png": {
       "height": 312,
       "width": 279
      }
     },
     "output_type": "display_data"
    }
   ],
   "source": [
    "font = {'family' : 'Arial',\n",
    "        'size'   : 30}\n",
    "\n",
    "sc.set_figure_params(fontsize=25)\n",
    "sns.set()\n",
    "matplotlib.rc('ytick', labelsize=14)\n",
    "matplotlib.rc('xtick', labelsize=14)\n",
    "sc.pl.violin(models, \n",
    "             keys=protein_up, \n",
    "             groupby=\"method\", \n",
    "             rotation=90,\n",
    "             show=True,\n",
    "             order=models.obs[\"method\"].unique().tolist(),\n",
    "             color = \"#ee0ef0\",\n",
    "             save=\"_best_model_cmpr.pdf\",\n",
    "             jitter=True,\n",
    "            )"
   ]
  },
  {
   "cell_type": "code",
   "execution_count": 32,
   "metadata": {},
   "outputs": [
    {
     "name": "stdout",
     "output_type": "stream",
     "text": [
      "P67871|CSK2B\n"
     ]
    }
   ],
   "source": [
    "protein_down = down_genes[0]\n",
    "print(protein_down)"
   ]
  },
  {
   "cell_type": "code",
   "execution_count": 33,
   "metadata": {},
   "outputs": [
    {
     "name": "stdout",
     "output_type": "stream",
     "text": [
      "WARNING: saving figure to file results/alzPro-time/violin_worst_model_cmpr.pdf\n"
     ]
    },
    {
     "data": {
      "image/png": "[encoded data removed]",
      "text/plain": [
       "<Figure size 372.24x320 with 1 Axes>"
      ]
     },
     "metadata": {
      "image/png": {
       "height": 312,
       "width": 304
      }
     },
     "output_type": "display_data"
    }
   ],
   "source": [
    "font = {'family' : 'Arial',\n",
    "        'size'   : 30}\n",
    "\n",
    "sc.set_figure_params(fontsize=25)\n",
    "sns.set()\n",
    "matplotlib.rc('ytick', labelsize=14)\n",
    "matplotlib.rc('xtick', labelsize=14)\n",
    "sc.pl.violin(models, \n",
    "             keys=protein_down, \n",
    "             groupby=\"method\", \n",
    "             rotation=90,\n",
    "             show=True,\n",
    "             order=models.obs[\"method\"].unique().tolist(),\n",
    "             color = \"#ee0ef0\",\n",
    "             save=\"_worst_model_cmpr.pdf\",\n",
    "             jitter=True,\n",
    "            )"
   ]
  },
  {
   "cell_type": "code",
   "execution_count": 34,
   "metadata": {},
   "outputs": [
    {
     "name": "stdout",
     "output_type": "stream",
     "text": [
      "WARNING: saving figure to file results/alzPro-time/violin_standard_model_cmpr.pdf\n"
     ]
    },
    {
     "data": {
      "image/png": "[encoded data removed]",
      "text/plain": [
       "<Figure size 372.24x320 with 1 Axes>"
      ]
     },
     "metadata": {
      "image/png": {
       "height": 312,
       "width": 304
      }
     },
     "output_type": "display_data"
    }
   ],
   "source": [
    "font = {'family' : 'Arial',\n",
    "        'size'   : 30}\n",
    "\n",
    "sc.set_figure_params(fontsize=25)\n",
    "sns.set()\n",
    "matplotlib.rc('ytick', labelsize=14)\n",
    "matplotlib.rc('xtick', labelsize=14)\n",
    "sc.pl.violin(models, \n",
    "             keys=\"O89051|ITM2B\", \n",
    "             groupby=\"method\", \n",
    "             rotation=90,\n",
    "             show=True,\n",
    "             order=models.obs[\"method\"].unique().tolist(),\n",
    "             color = \"#ee0ef0\",\n",
    "             save=\"_standard_model_cmpr.pdf\",\n",
    "             jitter=True,\n",
    "            )"
   ]
  },
  {
   "attachments": {},
   "cell_type": "markdown",
   "metadata": {},
   "source": [
    "### R^2 Plots"
   ]
  },
  {
   "cell_type": "code",
   "execution_count": 35,
   "metadata": {},
   "outputs": [
    {
     "name": "stderr",
     "output_type": "stream",
     "text": [
      "/home/kojo/miniconda3/envs/trVAE/lib/python3.7/site-packages/anndata/_core/anndata.py:1785: FutureWarning: X.dtype being converted to np.float32 from float64. In the next version of anndata (0.9) conversion will not be automatic. Pass dtype explicitly to avoid this warning. Pass `AnnData(X, dtype=X.dtype, ...)` to get the future behavour.\n",
      "  [AnnData(sparse.csr_matrix(a.shape), obs=a.obs) for a in all_adatas],\n"
     ]
    },
    {
     "data": {
      "text/plain": [
       "AnnData object with n_obs × n_vars = 48 × 2969\n",
       "    obs: 'Qi ID', 'sex', 'Group', 'Timepoint', 'Validation', 'method', 'batch'"
      ]
     },
     "execution_count": 35,
     "metadata": {},
     "output_type": "execute_result"
    }
   ],
   "source": [
    "adata_pred = ctrl_adata.concatenate(real_adata, trvae_pred)\n",
    "#adata_pred.uns['log1p'][\"base\"] = None\n",
    "adata_pred"
   ]
  },
  {
   "cell_type": "code",
   "execution_count": 36,
   "metadata": {},
   "outputs": [
    {
     "data": {
      "text/plain": [
       "array(['6m', '9m', '6m_to_9m'], dtype=object)"
      ]
     },
     "execution_count": 36,
     "metadata": {},
     "output_type": "execute_result"
    }
   ],
   "source": [
    "adata_pred.obs[condition_key].unique()"
   ]
  },
  {
   "cell_type": "code",
   "execution_count": 37,
   "metadata": {},
   "outputs": [
    {
     "name": "stdout",
     "output_type": "stream",
     "text": [
      "WARNING: Default of the method has been changed to 't-test' from 't-test_overestim_var'\n",
      "WARNING: Default of the method has been changed to 't-test' from 't-test_overestim_var'\n"
     ]
    }
   ],
   "source": [
    "#\"\"\"\n",
    "sc.tl.rank_genes_groups(cell_type_adata, reference=target_condition, \n",
    "                       groupby=condition_key, groups=[source_condition],\n",
    "                       key_added='up_reg_genes', n_genes=50)\n",
    "sc.tl.rank_genes_groups(cell_type_adata, reference=source_condition,\n",
    "                         groupby=condition_key, groups=[target_condition],\n",
    "                         key_added='down_reg_genes', n_genes=50)\n",
    "up_genes = cell_type_adata.uns['up_reg_genes']['names'][source_condition]\n",
    "down_genes = cell_type_adata.uns['down_reg_genes']['names'][target_condition]\n",
    "#\"\"\""
   ]
  },
  {
   "cell_type": "code",
   "execution_count": 38,
   "metadata": {},
   "outputs": [
    {
     "data": {
      "text/plain": [
       "{'Q9CQV1|TIM16': 42.280388,\n",
       " 'Q8VEA4|MIA40': 42.243973,\n",
       " 'Q9CQZ6|NDUB3': 41.02073,\n",
       " 'O88952|LIN7C': 40.347694,\n",
       " 'Q8C3Q5|SHSA7': 37.59153,\n",
       " 'Q56A07|SCN2B': 37.511383,\n",
       " 'Q01320|TOP2A': 33.98139,\n",
       " 'P10854|H2B1M': 33.79564,\n",
       " 'Q9D1K7|CT027': 33.352276,\n",
       " 'Q8BGU5|CCNY': 31.697792,\n",
       " 'A2ASS6|TITIN': 31.667074,\n",
       " 'Q924K8|MTA3': 31.590479,\n",
       " 'Q62167|DDX3X': 31.025003,\n",
       " 'Q9QZR9|CO4A4': 30.994492,\n",
       " 'Q8R0S2|IQEC1': 30.793282,\n",
       " 'Q99J09|MEP50': 30.714941,\n",
       " 'Q60973|RBBP7': 30.431381,\n",
       " 'P15864|H12': 30.363781,\n",
       " 'Q9CR98|F136A': 29.502493,\n",
       " 'Q69ZT1|FAN1': 28.97709,\n",
       " 'Q8BSS9|LIPA2': 28.497633,\n",
       " 'Q99JR8|SMRD2': 28.475363,\n",
       " 'Q8BHE3|ATCAY': 28.078358,\n",
       " 'Q64337|SQSTM': 28.061852,\n",
       " 'Q60960|IMA5': 27.644123,\n",
       " 'Q9CQR4|ACO13': 27.067686,\n",
       " 'Q8BH34|SEM3D': 26.662012,\n",
       " 'Q8C120|SH3R3': 26.449255,\n",
       " 'P97952|SCN1B': 26.219824,\n",
       " 'Q62376|RU17': 26.135845,\n",
       " 'Q99PJ0|NTRI': 25.821054,\n",
       " 'Q9CQX8|RT36': 25.67199,\n",
       " 'Q62189|SNRPA': 25.65637,\n",
       " 'P48678|LMNA': 25.467913,\n",
       " 'P63087|PP1G': 25.408749,\n",
       " 'Q5DTJ9|MYPN': 25.132729,\n",
       " 'P63073|IF4E': 25.126154,\n",
       " 'Q9D4C9|CLVS1': 24.53129,\n",
       " 'Q5EG47|AAPK1': 24.397602,\n",
       " 'Q9JL04|FMN2': 24.36498,\n",
       " 'Q8BJM7|TYW1': 24.307207,\n",
       " 'Q6PHZ8|KCIP4': 24.243044,\n",
       " 'Q14BB9|MA6D1': 24.189428,\n",
       " 'Q9D6G9|CKLF5': 24.156181,\n",
       " 'Q8K2K6|AGFG1': 24.06339,\n",
       " 'Q9QZD9|EIF3I': 23.766933,\n",
       " 'P13504|IL1R1': 23.463129,\n",
       " 'Q6NZC7|S23IP': 23.337608,\n",
       " 'Q8R3Q2|PP6R2': 23.30093,\n",
       " 'Q3UHU5|MTCL1': 23.195997}"
      ]
     },
     "execution_count": 38,
     "metadata": {},
     "output_type": "execute_result"
    }
   ],
   "source": [
    "up_genes_pairs = {}\n",
    "for i in range(50):\n",
    "    up_genes_pairs[cell_type_adata.uns['up_reg_genes']['names'][source_condition][i]] = cell_type_adata.uns['up_reg_genes']['scores'][source_condition][i]\n",
    "up_genes_pairs"
   ]
  },
  {
   "cell_type": "code",
   "execution_count": 39,
   "metadata": {},
   "outputs": [
    {
     "data": {
      "text/plain": [
       "{'Q8K4Z5|SF3A1': 52.784878,\n",
       " 'Q6ZWR6|SYNE1': 52.32416,\n",
       " 'Q9CPQ1|COX6C': 48.97237,\n",
       " 'A2A7S8|K1522': 45.239044,\n",
       " 'Q6ZQ88|KDM1A': 42.099476,\n",
       " 'Q9DBL7|COASY': 37.390667,\n",
       " 'P61759|PFD3': 36.753544,\n",
       " 'Q0VF58|COJA1': 36.201904,\n",
       " 'P62821|RAB1A': 36.12635,\n",
       " 'Q8R5C5|ACTY': 35.79951,\n",
       " 'Q62241|RU1C': 34.88253,\n",
       " 'P61957|SUMO2': 34.710987,\n",
       " 'P46664|PURA2': 34.144512,\n",
       " 'Q8C878|UBA3': 34.09924,\n",
       " 'Q8C6E0|CFA36': 34.08704,\n",
       " 'Q6ZPE2|MTMR5': 34.027576,\n",
       " 'Q62393|TPD52': 33.32222,\n",
       " 'P27048|RSMB': 33.289696,\n",
       " 'Q6ZWR4|2ABB': 33.002235,\n",
       " 'P61082|UBC12': 32.88061,\n",
       " 'P24452|CAPG': 32.687763,\n",
       " 'Q9R0N7|SYT7': 32.504826,\n",
       " 'Q9CZ04|CSN7A': 32.38194,\n",
       " 'Q9R069|BCAM': 32.08449,\n",
       " 'Q61410|KGP2': 31.378752,\n",
       " 'P61961|UFM1': 30.776651,\n",
       " 'Q9CRY7|GDPD1': 30.627577,\n",
       " 'Q9D0G0|RT30': 30.626793,\n",
       " 'Q61233|PLSL': 30.59918,\n",
       " 'Q9CQ86|MIEN1': 30.566132,\n",
       " 'O88448|KLC2': 30.327568,\n",
       " 'P54728|RD23B': 30.074154,\n",
       " 'Q9WVL0|MAAI': 29.58334,\n",
       " 'Q8BHW2|OSCP1': 29.385086,\n",
       " 'Q6ZPF4|FMNL3': 28.713917,\n",
       " 'P62267|RS23': 28.642597,\n",
       " 'P21126|UBL4A': 28.52447,\n",
       " 'Q9D9M2|UBP12': 28.06646,\n",
       " 'O55142|RL35A': 27.665838,\n",
       " 'P84244|H33': 27.549856,\n",
       " 'Q9Z2V5|HDAC6': 27.31279,\n",
       " 'Q9D906|ATG7': 27.300087,\n",
       " 'Q9QX60|DGUOK': 27.220062,\n",
       " 'Q9Z1R2|BAG6': 27.136505,\n",
       " 'Q8R2V5|ADAP2': 27.071194,\n",
       " 'Q9JKK7|TMOD2': 27.019028,\n",
       " 'Q52KR3|PRUN2': 26.955664,\n",
       " 'P47955|RLA1': 26.847176,\n",
       " 'Q99MR6|SRRT': 26.660942,\n",
       " 'Q6ZQK5|ACAP2': 26.432468}"
      ]
     },
     "execution_count": 39,
     "metadata": {},
     "output_type": "execute_result"
    }
   ],
   "source": [
    "down_genes_pairs = {}\n",
    "for i in range(50):\n",
    "    down_genes_pairs[cell_type_adata.uns['down_reg_genes']['names'][target_condition][i]] = cell_type_adata.uns['down_reg_genes']['scores'][target_condition][i]\n",
    "down_genes_pairs"
   ]
  },
  {
   "cell_type": "code",
   "execution_count": 40,
   "metadata": {},
   "outputs": [],
   "source": [
    "top_genes = up_genes.tolist() + down_genes.tolist()"
   ]
  },
  {
   "cell_type": "code",
   "execution_count": 41,
   "metadata": {},
   "outputs": [
    {
     "data": {
      "text/plain": [
       "100"
      ]
     },
     "execution_count": 41,
     "metadata": {},
     "output_type": "execute_result"
    }
   ],
   "source": [
    "len(top_genes)"
   ]
  },
  {
   "cell_type": "code",
   "execution_count": 42,
   "metadata": {},
   "outputs": [
    {
     "name": "stdout",
     "output_type": "stream",
     "text": [
      "Q9CQV1|TIM16\n"
     ]
    }
   ],
   "source": [
    "protein_up = up_genes[0]\n",
    "print(protein_up)"
   ]
  },
  {
   "cell_type": "code",
   "execution_count": 43,
   "metadata": {},
   "outputs": [
    {
     "name": "stdout",
     "output_type": "stream",
     "text": [
      "WARNING: saving figure to file results/alzPro-time/violin_standard_best_model_cmpr.pdf\n"
     ]
    },
    {
     "data": {
      "image/png": "[encoded data removed]",
      "text/plain": [
       "<Figure size 372.24x320 with 1 Axes>"
      ]
     },
     "metadata": {
      "image/png": {
       "height": 312,
       "width": 304
      }
     },
     "output_type": "display_data"
    }
   ],
   "source": [
    "font = {'family' : 'Arial',\n",
    "        'size'   : 30}\n",
    "\n",
    "sc.set_figure_params(fontsize=25)\n",
    "sns.set()\n",
    "matplotlib.rc('ytick', labelsize=14)\n",
    "matplotlib.rc('xtick', labelsize=14)\n",
    "sc.pl.violin(models, \n",
    "             keys=protein_up, \n",
    "             groupby=\"method\", \n",
    "             rotation=90,\n",
    "             show=True,\n",
    "             order=models.obs[\"method\"].unique().tolist(),\n",
    "             color = \"#ee0ef0\",\n",
    "             save=\"_standard_best_model_cmpr.pdf\",\n",
    "             jitter=True,\n",
    "            )"
   ]
  },
  {
   "cell_type": "code",
   "execution_count": 44,
   "metadata": {},
   "outputs": [
    {
     "name": "stdout",
     "output_type": "stream",
     "text": [
      "Q8K4Z5|SF3A1\n"
     ]
    }
   ],
   "source": [
    "protein_down = down_genes[0]\n",
    "print(protein_down)"
   ]
  },
  {
   "cell_type": "code",
   "execution_count": 45,
   "metadata": {},
   "outputs": [
    {
     "name": "stdout",
     "output_type": "stream",
     "text": [
      "WARNING: saving figure to file results/alzPro-time/violin_standard_worst_model_cmpr.pdf\n"
     ]
    },
    {
     "data": {
      "image/png": "[encoded data removed]",
      "text/plain": [
       "<Figure size 372.24x320 with 1 Axes>"
      ]
     },
     "metadata": {
      "image/png": {
       "height": 312,
       "width": 314
      }
     },
     "output_type": "display_data"
    }
   ],
   "source": [
    "font = {'family' : 'Arial',\n",
    "        'size'   : 30}\n",
    "\n",
    "sc.set_figure_params(fontsize=25)\n",
    "sns.set()\n",
    "matplotlib.rc('ytick', labelsize=14)\n",
    "matplotlib.rc('xtick', labelsize=14)\n",
    "sc.pl.violin(models, \n",
    "             keys=protein_down, \n",
    "             groupby=\"method\", \n",
    "             rotation=90,\n",
    "             show=True,\n",
    "             order=models.obs[\"method\"].unique().tolist(),\n",
    "             color = \"#ee0ef0\",\n",
    "             save=\"_standard_worst_model_cmpr.pdf\",\n",
    "             jitter=True,\n",
    "            )"
   ]
  },
  {
   "cell_type": "code",
   "execution_count": 46,
   "metadata": {},
   "outputs": [],
   "source": [
    "#top_genes = up_genes.tolist() + down_genes.tolist()"
   ]
  },
  {
   "cell_type": "code",
   "execution_count": 47,
   "metadata": {},
   "outputs": [
    {
     "name": "stdout",
     "output_type": "stream",
     "text": [
      "reg_mean_top100: 0.04367751909150108\n",
      "reg_mean_all: 0.9413128946357217\n"
     ]
    },
    {
     "data": {
      "image/png": "[encoded data removed]",
      "text/plain": [
       "<Figure size 320x320 with 1 Axes>"
      ]
     },
     "metadata": {
      "image/png": {
       "height": 288,
       "width": 296
      }
     },
     "output_type": "display_data"
    }
   ],
   "source": [
    "reptrvae.pl.reg_mean_plot(adata_pred,\n",
    "                         top_100_genes=top_genes,\n",
    "                         gene_list=top_genes[:5] + top_genes[50:55],\n",
    "                         condition_key=condition_key,\n",
    "                         axis_keys={'x': f\"{source_condition}_to_{target_condition}\", 'y': target_condition},\n",
    "                         labels={'x': \"\", 'y': \"\"},\n",
    "                         path_to_save=os.path.join(path_to_save, f\"trVAE_{specific_cell_type}_{'normalized' if normalized else 'count'}_{combination}_reg_mean.pdf\"),\n",
    "                         legend=False,\n",
    "                         show=True,\n",
    "                         x_coeff=1.0,\n",
    "                         y_coeff=0.0)"
   ]
  },
  {
   "cell_type": "code",
   "execution_count": 48,
   "metadata": {},
   "outputs": [
    {
     "name": "stdout",
     "output_type": "stream",
     "text": [
      "reg_var_top100: 0.7641229847474424\n",
      "reg_var_all: 0.8794114754073679\n"
     ]
    },
    {
     "data": {
      "image/png": "[encoded data removed]",
      "text/plain": [
       "<Figure size 320x320 with 1 Axes>"
      ]
     },
     "metadata": {
      "image/png": {
       "height": 284,
       "width": 305
      }
     },
     "output_type": "display_data"
    }
   ],
   "source": [
    "reptrvae.pl.reg_var_plot(adata_pred,\n",
    "                         top_100_genes=top_genes,\n",
    "                         gene_list=top_genes[:5] + top_genes[50:55],\n",
    "                         condition_key=condition_key,\n",
    "                         axis_keys={'x': f\"{source_condition}_to_{target_condition}\", 'y': target_condition},\n",
    "                         labels={'x': \"\", 'y': \"\"},\n",
    "                         path_to_save=os.path.join(path_to_save, f\"trVAE_{specific_cell_type}_{'normalized' if normalized else 'count'}_{combination}_reg_var.pdf\"),\n",
    "                         legend=False,\n",
    "                         show=True,\n",
    "                         x_coeff=1.0,\n",
    "                         y_coeff=0.1)"
   ]
  },
  {
   "cell_type": "code",
   "execution_count": 49,
   "metadata": {},
   "outputs": [
    {
     "data": {
      "text/plain": [
       "['Q9CQV1|TIM16',\n",
       " 'Q8VEA4|MIA40',\n",
       " 'Q9CQZ6|NDUB3',\n",
       " 'O88952|LIN7C',\n",
       " 'Q8C3Q5|SHSA7',\n",
       " 'Q56A07|SCN2B',\n",
       " 'Q01320|TOP2A',\n",
       " 'P10854|H2B1M',\n",
       " 'Q9D1K7|CT027',\n",
       " 'Q8BGU5|CCNY',\n",
       " 'A2ASS6|TITIN',\n",
       " 'Q924K8|MTA3',\n",
       " 'Q62167|DDX3X',\n",
       " 'Q9QZR9|CO4A4',\n",
       " 'Q8R0S2|IQEC1',\n",
       " 'Q99J09|MEP50',\n",
       " 'Q60973|RBBP7',\n",
       " 'P15864|H12',\n",
       " 'Q9CR98|F136A',\n",
       " 'Q69ZT1|FAN1',\n",
       " 'Q8BSS9|LIPA2',\n",
       " 'Q99JR8|SMRD2',\n",
       " 'Q8BHE3|ATCAY',\n",
       " 'Q64337|SQSTM',\n",
       " 'Q60960|IMA5',\n",
       " 'Q9CQR4|ACO13',\n",
       " 'Q8BH34|SEM3D',\n",
       " 'Q8C120|SH3R3',\n",
       " 'P97952|SCN1B',\n",
       " 'Q62376|RU17',\n",
       " 'Q99PJ0|NTRI',\n",
       " 'Q9CQX8|RT36',\n",
       " 'Q62189|SNRPA',\n",
       " 'P48678|LMNA',\n",
       " 'P63087|PP1G',\n",
       " 'Q5DTJ9|MYPN',\n",
       " 'P63073|IF4E',\n",
       " 'Q9D4C9|CLVS1',\n",
       " 'Q5EG47|AAPK1',\n",
       " 'Q9JL04|FMN2',\n",
       " 'Q8BJM7|TYW1',\n",
       " 'Q6PHZ8|KCIP4',\n",
       " 'Q14BB9|MA6D1',\n",
       " 'Q9D6G9|CKLF5',\n",
       " 'Q8K2K6|AGFG1',\n",
       " 'Q9QZD9|EIF3I',\n",
       " 'P13504|IL1R1',\n",
       " 'Q6NZC7|S23IP',\n",
       " 'Q8R3Q2|PP6R2',\n",
       " 'Q3UHU5|MTCL1']"
      ]
     },
     "execution_count": 49,
     "metadata": {},
     "output_type": "execute_result"
    }
   ],
   "source": [
    "up_genes.tolist()"
   ]
  },
  {
   "cell_type": "code",
   "execution_count": 50,
   "metadata": {},
   "outputs": [
    {
     "data": {
      "text/plain": [
       "['Q8K4Z5|SF3A1',\n",
       " 'Q6ZWR6|SYNE1',\n",
       " 'Q9CPQ1|COX6C',\n",
       " 'A2A7S8|K1522',\n",
       " 'Q6ZQ88|KDM1A',\n",
       " 'Q9DBL7|COASY',\n",
       " 'P61759|PFD3',\n",
       " 'Q0VF58|COJA1',\n",
       " 'P62821|RAB1A',\n",
       " 'Q8R5C5|ACTY',\n",
       " 'Q62241|RU1C',\n",
       " 'P61957|SUMO2',\n",
       " 'P46664|PURA2',\n",
       " 'Q8C878|UBA3',\n",
       " 'Q8C6E0|CFA36',\n",
       " 'Q6ZPE2|MTMR5',\n",
       " 'Q62393|TPD52',\n",
       " 'P27048|RSMB',\n",
       " 'Q6ZWR4|2ABB',\n",
       " 'P61082|UBC12',\n",
       " 'P24452|CAPG',\n",
       " 'Q9R0N7|SYT7',\n",
       " 'Q9CZ04|CSN7A',\n",
       " 'Q9R069|BCAM',\n",
       " 'Q61410|KGP2',\n",
       " 'P61961|UFM1',\n",
       " 'Q9CRY7|GDPD1',\n",
       " 'Q9D0G0|RT30',\n",
       " 'Q61233|PLSL',\n",
       " 'Q9CQ86|MIEN1',\n",
       " 'O88448|KLC2',\n",
       " 'P54728|RD23B',\n",
       " 'Q9WVL0|MAAI',\n",
       " 'Q8BHW2|OSCP1',\n",
       " 'Q6ZPF4|FMNL3',\n",
       " 'P62267|RS23',\n",
       " 'P21126|UBL4A',\n",
       " 'Q9D9M2|UBP12',\n",
       " 'O55142|RL35A',\n",
       " 'P84244|H33',\n",
       " 'Q9Z2V5|HDAC6',\n",
       " 'Q9D906|ATG7',\n",
       " 'Q9QX60|DGUOK',\n",
       " 'Q9Z1R2|BAG6',\n",
       " 'Q8R2V5|ADAP2',\n",
       " 'Q9JKK7|TMOD2',\n",
       " 'Q52KR3|PRUN2',\n",
       " 'P47955|RLA1',\n",
       " 'Q99MR6|SRRT',\n",
       " 'Q6ZQK5|ACAP2']"
      ]
     },
     "execution_count": 50,
     "metadata": {},
     "output_type": "execute_result"
    }
   ],
   "source": [
    "down_genes.tolist()"
   ]
  }
 ],
 "metadata": {
  "kernelspec": {
   "display_name": "trVAE",
   "language": "python",
   "name": "python3"
  },
  "language_info": {
   "codemirror_mode": {
    "name": "ipython",
    "version": 3
   },
   "file_extension": ".py",
   "mimetype": "text/x-python",
   "name": "python",
   "nbconvert_exporter": "python",
   "pygments_lexer": "ipython3",
   "version": "3.7.16"
  },
  "orig_nbformat": 4,
  "vscode": {
   "interpreter": {
    "hash": "cdcf3d0211476e5bccb8bc94e75d6a42096e0ae145634bb520750c1cae43bcb3"
   }
  }
 },
 "nbformat": 4,
 "nbformat_minor": 2
}
