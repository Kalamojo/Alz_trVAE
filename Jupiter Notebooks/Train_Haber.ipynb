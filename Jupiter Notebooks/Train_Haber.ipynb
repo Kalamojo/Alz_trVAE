{
 "cells": [
  {
   "cell_type": "code",
   "execution_count": null,
   "metadata": {},
   "outputs": [],
   "source": [
    "import numpy as np\n",
    "import scanpy as sc\n",
    "import trvae\n",
    "import pandas as pd \n",
    "from scipy import stats"
   ]
  },
  {
   "cell_type": "code",
   "execution_count": null,
   "metadata": {},
   "outputs": [],
   "source": [
    "sc.settings.set_figure_params(dpi=200)"
   ]
  },
  {
   "cell_type": "code",
   "execution_count": null,
   "metadata": {},
   "outputs": [],
   "source": [
    "data_name = \"haber\"\n",
    "specific_celltype = \"Tuft\"\n",
    "conditions = ['Control', 'Hpoly.Day3', 'Hpoly.Day10', 'Salmonella']\n",
    "target_conditions = [\"Hpoly.Day3\", \"Hpoly.Day10\", \"Salmonella\"]\n",
    "cell_type_key = \"cell_label\"\n",
    "condition_key = \"condition\""
   ]
  },
  {
   "cell_type": "code",
   "execution_count": null,
   "metadata": {},
   "outputs": [],
   "source": [
    "adata = sc.read(f\"./data/{data_name}/{data_name}.h5ad\")\n",
    "adata = adata[adata.obs[condition_key].isin(conditions)]\n",
    "adata"
   ]
  },
  {
   "cell_type": "code",
   "execution_count": null,
   "metadata": {},
   "outputs": [],
   "source": [
    "adata.obs.groupby([cell_type_key, condition_key]).size()"
   ]
  },
  {
   "cell_type": "code",
   "execution_count": null,
   "metadata": {},
   "outputs": [],
   "source": [
    "train_adata, valid_adata = trvae.utils.train_test_split(adata, 0.80)"
   ]
  },
  {
   "cell_type": "code",
   "execution_count": null,
   "metadata": {},
   "outputs": [],
   "source": [
    "train_adata.shape, valid_adata.shape"
   ]
  },
  {
   "cell_type": "code",
   "execution_count": null,
   "metadata": {},
   "outputs": [],
   "source": [
    "net_train_adata = train_adata[~((train_adata.obs[cell_type_key] == specific_celltype) & (train_adata.obs[condition_key].isin(target_conditions)))]\n",
    "net_valid_adata = valid_adata[~((valid_adata.obs[cell_type_key] == specific_celltype) & (valid_adata.obs[condition_key].isin(target_conditions)))]"
   ]
  },
  {
   "cell_type": "code",
   "execution_count": null,
   "metadata": {},
   "outputs": [],
   "source": [
    "net_train_adata.shape, net_valid_adata.shape"
   ]
  },
  {
   "cell_type": "code",
   "execution_count": null,
   "metadata": {},
   "outputs": [],
   "source": [
    "net_train_adata.obs.groupby([cell_type_key, condition_key]).size()"
   ]
  },
  {
   "cell_type": "code",
   "execution_count": null,
   "metadata": {},
   "outputs": [],
   "source": [
    "network = trvae.archs.trVAEMulti(x_dimension=net_train_adata.shape[1],\n",
    "                                 z_dimension=60,\n",
    "                                 mmd_dimension=128, \n",
    "                                 n_conditions=len(net_train_adata.obs[condition_key].unique()),\n",
    "                                 alpha=1e-6,\n",
    "                                 beta=100,\n",
    "                                 eta=100,\n",
    "                                 clip_value=100,\n",
    "                                 lambda_l1=0.0,\n",
    "                                 lambda_l2=0.0,\n",
    "                                 learning_rate=0.001,\n",
    "                                 model_path=f\"./models/trVAEMulti/best/{data_name}-{specific_celltype}/\",\n",
    "                                 dropout_rate=0.2,\n",
    "                                 output_activation='relu')"
   ]
  },
  {
   "cell_type": "code",
   "execution_count": null,
   "metadata": {},
   "outputs": [],
   "source": [
    "label_encoder = {'Control': 0, 'Hpoly.Day3': 1, 'Hpoly.Day10': 2, 'Salmonella': 3}"
   ]
  },
  {
   "cell_type": "code",
   "execution_count": null,
   "metadata": {},
   "outputs": [],
   "source": [
    "# network.restore_model()"
   ]
  },
  {
   "cell_type": "code",
   "execution_count": null,
   "metadata": {},
   "outputs": [],
   "source": [
    "network.train(net_train_adata,\n",
    "              net_valid_adata,\n",
    "              label_encoder,\n",
    "              condition_key,\n",
    "              n_epochs=10000,\n",
    "              batch_size=512,\n",
    "              verbose=2,\n",
    "              early_stop_limit=750,\n",
    "              lr_reducer=0,\n",
    "              shuffle=True,\n",
    "              )"
   ]
  },
  {
   "cell_type": "code",
   "execution_count": null,
   "metadata": {},
   "outputs": [],
   "source": [
    "train_labels, _ = trvae.tl.label_encoder(net_train_adata, label_encoder, condition_key)\n",
    "latent_with_true_labels = network.to_latent(net_train_adata, train_labels)\n",
    "mmd_with_true_labels = network.to_mmd_layer(net_train_adata, train_labels, feed_fake=-1)"
   ]
  },
  {
   "cell_type": "code",
   "execution_count": null,
   "metadata": {},
   "outputs": [],
   "source": [
    "sc.pp.neighbors(latent_with_true_labels)\n",
    "sc.tl.umap(latent_with_true_labels)\n",
    "sc.pl.umap(latent_with_true_labels, color=[condition_key, cell_type_key],\n",
    "           show=True,\n",
    "           wspace=0.15,\n",
    "           frameon=False)"
   ]
  },
  {
   "cell_type": "code",
   "execution_count": null,
   "metadata": {},
   "outputs": [],
   "source": [
    "sc.pp.neighbors(mmd_with_true_labels)\n",
    "sc.tl.umap(mmd_with_true_labels)\n",
    "sc.pl.umap(mmd_with_true_labels, color=[condition_key, cell_type_key],\n",
    "           show=True,\n",
    "           wspace=0.15,\n",
    "           frameon=False)"
   ]
  },
  {
   "cell_type": "code",
   "execution_count": null,
   "metadata": {},
   "outputs": [],
   "source": [
    "cell_type_adata = train_adata[train_adata.obs[cell_type_key] == specific_celltype]"
   ]
  },
  {
   "cell_type": "code",
   "execution_count": null,
   "metadata": {},
   "outputs": [],
   "source": [
    "cell_type_adata.var = pd.DataFrame(index=cell_type_adata.var_names)"
   ]
  },
  {
   "cell_type": "code",
   "execution_count": null,
   "metadata": {},
   "outputs": [],
   "source": [
    "cell_type_adata.obs.groupby([cell_type_key, condition_key]).size()"
   ]
  },
  {
   "cell_type": "code",
   "execution_count": null,
   "metadata": {},
   "outputs": [],
   "source": [
    "def predict_transition(adata, source_cond, target_cond):\n",
    "    \n",
    "    source_adata = adata[adata.obs[condition_key] == source_cond]\n",
    "    \n",
    "    source_cond_key = source_cond.split(\"_to_\")[-1]\n",
    "    source_labels = np.zeros(source_adata.shape[0]) + label_encoder[source_cond_key]\n",
    "    target_labels = np.zeros(source_adata.shape[0]) + label_encoder[target_cond]\n",
    "\n",
    "    pred_target = network.predict(source_adata,\n",
    "                                  encoder_labels=source_labels,\n",
    "                                  decoder_labels=target_labels,\n",
    "                                  )\n",
    "\n",
    "    pred_adata = sc.AnnData(X=pred_target)\n",
    "    pred_adata.obs[condition_key] = [source_cond + \"_to_\" + target_cond] * pred_target.shape[0]\n",
    "    pred_adata.obs[cell_type_key] = [specific_celltype] * pred_target.shape[0]\n",
    "    pred_adata.var_names = source_adata.var_names\n",
    "\n",
    "    adata = adata.concatenate(pred_adata)\n",
    "    return adata"
   ]
  },
  {
   "cell_type": "code",
   "execution_count": null,
   "metadata": {},
   "outputs": [],
   "source": [
    "recon_adata = predict_transition(cell_type_adata, \"Control\", \"Hpoly.Day10\")\n",
    "recon_adata = recon_adata.concatenate(predict_transition(recon_adata, \"Control\", \"Hpoly.Day3\"))\n",
    "recon_adata = recon_adata.concatenate(predict_transition(recon_adata, \"Control\", \"Salmonella\"))\n",
    "recon_adata = recon_adata.concatenate(predict_transition(recon_adata, \"Hpoly.Day3\", \"Hpoly.Day10\"))\n",
    "recon_adata = recon_adata.concatenate(predict_transition(recon_adata, \"Control_to_Hpoly.Day3\", \"Hpoly.Day10\"))\n",
    "recon_adata"
   ]
  },
  {
   "cell_type": "code",
   "execution_count": null,
   "metadata": {},
   "outputs": [],
   "source": [
    "recon_adata.obs.groupby([cell_type_key, condition_key]).size()"
   ]
  },
  {
   "cell_type": "code",
   "execution_count": null,
   "metadata": {},
   "outputs": [],
   "source": [
    "path = \"Control_to_Hpoly.Day10\"\n",
    "from_condition = path.split(\"_to_\")[-2]\n",
    "to_condition = path.split(\"_to_\")[-1]"
   ]
  },
  {
   "cell_type": "code",
   "execution_count": null,
   "metadata": {},
   "outputs": [],
   "source": [
    "pred_adata = recon_adata[recon_adata.obs[condition_key] == path]\n",
    "pred_adata"
   ]
  },
  {
   "cell_type": "code",
   "execution_count": null,
   "metadata": {},
   "outputs": [],
   "source": [
    "ctrl_adata = cell_type_adata[cell_type_adata.obs[condition_key] == from_condition]\n",
    "ctrl_adata"
   ]
  },
  {
   "cell_type": "code",
   "execution_count": null,
   "metadata": {},
   "outputs": [],
   "source": [
    "real_adata = cell_type_adata[cell_type_adata.obs[condition_key] == to_condition]\n",
    "real_adata"
   ]
  },
  {
   "cell_type": "code",
   "execution_count": null,
   "metadata": {},
   "outputs": [],
   "source": [
    "real_adata.X.min(), real_adata.X.max()"
   ]
  },
  {
   "cell_type": "code",
   "execution_count": null,
   "metadata": {},
   "outputs": [],
   "source": [
    "pred_adata.X.min(), pred_adata.X.max()"
   ]
  },
  {
   "cell_type": "code",
   "execution_count": null,
   "metadata": {},
   "outputs": [],
   "source": [
    "pred_mean = np.mean(pred_adata.X, axis=0)\n",
    "ctrl_mean = np.mean(ctrl_adata.X, axis=0)\n",
    "real_mean = np.mean(real_adata.X, axis=0)"
   ]
  },
  {
   "cell_type": "code",
   "execution_count": null,
   "metadata": {},
   "outputs": [],
   "source": [
    "pred_var = np.var(pred_adata.X, axis=0)\n",
    "ctrl_var = np.var(ctrl_adata.X, axis=0)\n",
    "real_var = np.var(real_adata.X, axis=0)"
   ]
  },
  {
   "cell_type": "code",
   "execution_count": null,
   "metadata": {},
   "outputs": [],
   "source": [
    "m, b, r_value_mean, p_value, std_err = stats.linregress(pred_mean, real_mean)\n",
    "r_value_mean = r_value_mean ** 2\n",
    "r_value_mean"
   ]
  },
  {
   "cell_type": "code",
   "execution_count": null,
   "metadata": {},
   "outputs": [],
   "source": [
    "m, b, r_value_var, p_value, std_err = stats.linregress(pred_var, real_var)\n",
    "r_value_var = r_value_var ** 2\n",
    "r_value_var"
   ]
  },
  {
   "cell_type": "code",
   "execution_count": null,
   "metadata": {},
   "outputs": [],
   "source": [
    "adata_pred = ctrl_adata.concatenate(pred_adata, real_adata)\n",
    "adata_pred"
   ]
  },
  {
   "cell_type": "code",
   "execution_count": null,
   "metadata": {},
   "outputs": [],
   "source": [
    "adata_pred.obs[condition_key].unique()"
   ]
  },
  {
   "cell_type": "code",
   "execution_count": null,
   "metadata": {},
   "outputs": [],
   "source": [
    "sc.tl.rank_genes_groups(cell_type_adata,\n",
    "                        groupby=condition_key,\n",
    "                        groups=[to_condition],\n",
    "                        reference=from_condition,\n",
    "                        n_genes=100)"
   ]
  },
  {
   "cell_type": "code",
   "execution_count": null,
   "metadata": {},
   "outputs": [],
   "source": [
    "top_genes = cell_type_adata.uns['rank_genes_groups']['names'][to_condition]"
   ]
  },
  {
   "cell_type": "code",
   "execution_count": null,
   "metadata": {},
   "outputs": [],
   "source": [
    "trvae.pl.reg_mean_plot(adata_pred,\n",
    "                         top_100_genes=top_genes,\n",
    "                         gene_list=top_genes[:10],\n",
    "                         condition_key=condition_key,\n",
    "                         axis_keys={'x': path, 'y': to_condition},\n",
    "                         labels={'x': path, 'y': to_condition},\n",
    "                         path_to_save=None,\n",
    "                         legend=False,\n",
    "                         show=True,\n",
    "                         x_coeff=1.0,\n",
    "                         y_coeff=0.0)"
   ]
  },
  {
   "cell_type": "code",
   "execution_count": null,
   "metadata": {},
   "outputs": [],
   "source": [
    "trvae.pl.reg_var_plot(adata_pred,\n",
    "                     top_100_genes=top_genes,\n",
    "                     gene_list=top_genes[:10],\n",
    "                     condition_key=condition_key,\n",
    "                     axis_keys={'x': path, 'y': to_condition},\n",
    "                     labels={'x': path, 'y': to_condition},\n",
    "                     path_to_save=None,\n",
    "                     legend=False,\n",
    "                     show=True,\n",
    "                     x_coeff=1.0,\n",
    "                     y_coeff=0.0)"
   ]
  },
  {
   "cell_type": "code",
   "execution_count": null,
   "metadata": {},
   "outputs": [],
   "source": [
    "sc.pl.violin(adata_pred, groupby=condition_key, keys=top_genes[:10], rotation=90)"
   ]
  },
  {
   "cell_type": "code",
   "execution_count": null,
   "metadata": {},
   "outputs": [],
   "source": [
    "recon_adata.write_h5ad(f\"../trVAE_reproducibility/data/reconstructed/trVAE_Haber/{specific_celltype}.h5ad\")"
   ]
  },
  {
   "cell_type": "code",
   "execution_count": null,
   "metadata": {},
   "outputs": [],
   "source": [
    "network.model_to_use = f\"./models/trVAEMulti/best/haber-{specific_celltype}/\""
   ]
  },
  {
   "cell_type": "code",
   "execution_count": null,
   "metadata": {},
   "outputs": [],
   "source": [
    "network.model_to_use"
   ]
  },
  {
   "cell_type": "code",
   "execution_count": null,
   "metadata": {},
   "outputs": [],
   "source": [
    "network.save_model()"
   ]
  },
  {
   "cell_type": "code",
   "execution_count": null,
   "metadata": {},
   "outputs": [],
   "source": []
  }
 ],
 "metadata": {
  "kernelspec": {
   "display_name": "Python 3",
   "language": "python",
   "name": "python3"
  },
  "language_info": {
   "codemirror_mode": {
    "name": "ipython",
    "version": 3
   },
   "file_extension": ".py",
   "mimetype": "text/x-python",
   "name": "python",
   "nbconvert_exporter": "python",
   "pygments_lexer": "ipython3",
   "version": "3.6.8"
  }
 },
 "nbformat": 4,
 "nbformat_minor": 2
}
